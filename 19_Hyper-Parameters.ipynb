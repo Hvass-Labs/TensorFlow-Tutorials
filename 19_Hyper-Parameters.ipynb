{
 "cells": [
  {
   "cell_type": "markdown",
   "metadata": {},
   "source": [
    "# TensorFlow Tutorial #19\n",
    "# Hyper-Parameter Optimization\n",
    "\n",
    "by [Magnus Erik Hvass Pedersen](http://www.hvass-labs.org/)\n",
    "/ [GitHub](https://github.com/Hvass-Labs/TensorFlow-Tutorials) / [Videos on YouTube](https://www.youtube.com/playlist?list=PL9Hr9sNUjfsl1877BS8m3yt8t_wq2IWji)"
   ]
  },
  {
   "cell_type": "markdown",
   "metadata": {},
   "source": [
    "## Introduction\n",
    "\n",
    "There are many parameters you can select when building and training a Neural Network in TensorFlow. These are often called Hyper-Parameters. For example, there is a hyper-parameter for how many layers the network should have, and another hyper-parameter for how many nodes per layer, and another hyper-parameter for the activation function to use, etc. The optimization method also has one or more hyper-parameters you can select, such as the learning-rate.\n",
    "\n",
    "One way of searching for good hyper-parameters is by hand-tuning, where you try one set of parameters and see how they perform, and then you try another set of parameters and see if they improve the performance. You try and build an intuition for what works well and guide your parameter-search accordingly. Not only is this extremely time-consuming for a human researcher, but the optimal parameters are often counter-intuitive to humans so you will not find them!\n",
    "\n",
    "Another way of searching for good hyper-parameters is to divide each parameter's valid range into evenly spaced values, and then simply have the computer try all combinations of parameter-values. This is called Grid Search. Although it is run entirely by the computer, it quickly becomes extremely time-consuming because the number of parameter-combinations increases exponentially as you add more hyper-parameters. This problem is known as the Curse of Dimensionality. For example, if you have just 4 hyper-parameters to tune and each of them is allowed 10 possible values, then there is a total of 10^4 parameter-combinations. If you add just one more hyper-parameter then there are 10^5 parameter-combinations, and so on.\n",
    "\n",
    "Yet another way of searching for good hyper-parameters is by random search. Instead of systematically trying every single parameter-combination as in Grid Search, we now try a number of parameter-combinations completely at random. This is like searching for \"a needle in a haystack\" and as the number of parameters increases, the probability of finding the optimal parameter-combinations by random sampling decreases to zero.\n",
    "\n",
    "This tutorial uses a clever method for finding good hyper-parameters known as Bayesian Optimization. You should be familiar with TensorFlow, Keras and Convolutional Neural Networks, see Tutorials #01, #02 and #03-C."
   ]
  },
  {
   "cell_type": "markdown",
   "metadata": {},
   "source": [
    "## Flowchart\n",
    "\n",
    "The problem with hyper-parameter optimization is that it is extremely costly to assess the performance of a set of parameters. This is because we first have to build the corresponding neural network, then we have to train it, and finally we have to measure its performance on a test-set. In this tutorial we will use the small MNIST problem so this training can be done very quickly, but on more realistic problems the training may take hours, days or even weeks on a very fast computer. So we need an optimization method that can search for hyper-parameters as efficiently as possible, by only evaluating the actual performance when absolutely necessary.\n",
    "\n",
    "The idea with Bayesian optimization is to construct another model of the search-space for hyper-parameters. One kind of model is known as a Gaussian Process. This gives us an estimate of how the performance varies with changes to the hyper-parameters. Whenever we evaluate the actual performance for a set of hyper-parameters, we know for a fact what the performance is - except perhaps for some noise. We can then ask the Bayesian optimizer to give us a new suggestion for hyper-parameters in a region of the search-space that we haven't explored yet, or hyper-parameters that the Bayesian optimizer thinks will bring us most improvement. We then repeat this process a number of times until the Bayesian optimizer has built a good model of how the performance varies with different hyper-parameters, so we can choose the best parameters.\n",
    "\n",
    "The flowchart of the algorithm is roughly:\n",
    "\n",
    "![Flowchart](images/19_flowchart_bayesian_optimization.png)"
   ]
  },
  {
   "cell_type": "markdown",
   "metadata": {},
   "source": [
    "## Imports"
   ]
  },
  {
   "cell_type": "code",
   "execution_count": 1,
   "metadata": {},
   "outputs": [],
   "source": [
    "%matplotlib inline\n",
    "import matplotlib.pyplot as plt\n",
    "import tensorflow as tf\n",
    "import numpy as np\n",
    "import math"
   ]
  },
  {
   "cell_type": "markdown",
   "metadata": {},
   "source": [
    "We need to import several things from Keras."
   ]
  },
  {
   "cell_type": "code",
   "execution_count": 2,
   "metadata": {},
   "outputs": [],
   "source": [
    "from tensorflow.keras import backend as K\n",
    "from tensorflow.keras.models import Sequential\n",
    "from tensorflow.keras.layers import InputLayer, Input\n",
    "from tensorflow.keras.layers import Reshape, MaxPooling2D\n",
    "from tensorflow.keras.layers import Conv2D, Dense, Flatten\n",
    "from tensorflow.keras.callbacks import TensorBoard\n",
    "from tensorflow.keras.optimizers import Adam\n",
    "from tensorflow.keras.models import load_model"
   ]
  },
  {
   "cell_type": "markdown",
   "metadata": {},
   "source": [
    "**NOTE:** We will save and load models using Keras so you need to have [h5py](http://docs.h5py.org/en/latest/build.html#install) installed. You also need to have [scikit-optimize](https://scikit-optimize.github.io/) installed for doing the hyper-parameter optimization.\n",
    "\n",
    "You should be able to run the following command in a terminal to install them both:\n",
    "\n",
    "`pip install h5py scikit-optimize`"
   ]
  },
  {
   "cell_type": "markdown",
   "metadata": {},
   "source": [
    "**NOTE:** This Notebook requires plotting functions in `scikit-optimize` that have not been merged into the official release at the time of this writing. If this Notebook cannot run with the version of `scikit-optimize` installed by the command above, you may have to install `scikit-optimize` from a development branch by running the following command instead:\n",
    "\n",
    "`pip install git+git://github.com/Hvass-Labs/scikit-optimize.git@dd7433da068b5a2509ef4ea4e5195458393e6555`"
   ]
  },
  {
   "cell_type": "code",
   "execution_count": 3,
   "metadata": {},
   "outputs": [
    {
     "name": "stderr",
     "output_type": "stream",
     "text": [
      "/home/magnus/anaconda3/envs/tf2/lib/python3.6/site-packages/sklearn/externals/joblib/__init__.py:15: FutureWarning: sklearn.externals.joblib is deprecated in 0.21 and will be removed in 0.23. Please import this functionality directly from joblib, which can be installed with: pip install joblib. If this warning is raised when loading pickled models, you may need to re-serialize those models with scikit-learn 0.21+.\n",
      "  warnings.warn(msg, category=FutureWarning)\n",
      "/home/magnus/anaconda3/envs/tf2/lib/python3.6/site-packages/sklearn/utils/deprecation.py:144: FutureWarning: The sklearn.metrics.scorer module is  deprecated in version 0.22 and will be removed in version 0.24. The corresponding classes / functions should instead be imported from sklearn.metrics. Anything that cannot be imported from sklearn.metrics is now part of the private API.\n",
      "  warnings.warn(message, FutureWarning)\n"
     ]
    }
   ],
   "source": [
    "import skopt\n",
    "from skopt import gp_minimize, forest_minimize\n",
    "from skopt.space import Real, Categorical, Integer\n",
    "from skopt.plots import plot_convergence\n",
    "from skopt.plots import plot_objective, plot_evaluations\n",
    "from skopt.plots import plot_histogram, plot_objective_2D\n",
    "from skopt.utils import use_named_args"
   ]
  },
  {
   "cell_type": "markdown",
   "metadata": {},
   "source": [
    "This was developed using Python 3.6 (Anaconda) and package versions:"
   ]
  },
  {
   "cell_type": "code",
   "execution_count": 4,
   "metadata": {
    "scrolled": false
   },
   "outputs": [
    {
     "data": {
      "text/plain": [
       "'2.1.0'"
      ]
     },
     "execution_count": 4,
     "metadata": {},
     "output_type": "execute_result"
    }
   ],
   "source": [
    "tf.__version__"
   ]
  },
  {
   "cell_type": "code",
   "execution_count": 5,
   "metadata": {},
   "outputs": [
    {
     "data": {
      "text/plain": [
       "'2.2.4-tf'"
      ]
     },
     "execution_count": 5,
     "metadata": {},
     "output_type": "execute_result"
    }
   ],
   "source": [
    "tf.keras.__version__"
   ]
  },
  {
   "cell_type": "code",
   "execution_count": 6,
   "metadata": {
    "scrolled": true
   },
   "outputs": [
    {
     "data": {
      "text/plain": [
       "'0.4'"
      ]
     },
     "execution_count": 6,
     "metadata": {},
     "output_type": "execute_result"
    }
   ],
   "source": [
    "skopt.__version__"
   ]
  },
  {
   "cell_type": "markdown",
   "metadata": {},
   "source": [
    "## Hyper-Parameters\n",
    "\n",
    "In this tutorial we want to find the hyper-parametes that makes a simple Convolutional Neural Network perform best at classifying the MNIST dataset for hand-written digits.\n",
    "\n",
    "For this demonstration we want to find the following hyper-parameters:\n",
    "\n",
    "* The learning-rate of the optimizer.\n",
    "* The number of fully-connected / dense layers.\n",
    "* The number of nodes for each of the dense layers.\n",
    "* Whether to use 'sigmoid' or 'relu' activation in all the layers.\n",
    "\n",
    "We will use the Python package `scikit-optimize` (or `skopt`) for finding the best choices of these hyper-parameters. Before we begin with the actual search for hyper-parameters, we first need to define the valid search-ranges or search-dimensions for each of these parameters.\n",
    "\n",
    "This is the search-dimension for the learning-rate. It is a real number (floating-point) with a lower bound of `1e-6` and an upper bound of `1e-2`. But instead of searching between these bounds directly, we use a logarithmic transformation, so we will search for the number `k` in `1ek` which is only bounded between -6 and -2. This is better than searching the entire exponential range."
   ]
  },
  {
   "cell_type": "code",
   "execution_count": 7,
   "metadata": {},
   "outputs": [],
   "source": [
    "dim_learning_rate = Real(low=1e-6, high=1e-2, prior='log-uniform',\n",
    "                         name='learning_rate')"
   ]
  },
  {
   "cell_type": "markdown",
   "metadata": {},
   "source": [
    "This is the search-dimension for the number of dense layers in the neural network. This is an integer and we want at least 1 dense layer and at most 5 dense layers in the neural network."
   ]
  },
  {
   "cell_type": "code",
   "execution_count": 8,
   "metadata": {},
   "outputs": [],
   "source": [
    "dim_num_dense_layers = Integer(low=1, high=5, name='num_dense_layers')"
   ]
  },
  {
   "cell_type": "markdown",
   "metadata": {},
   "source": [
    "This is the search-dimension for the number of nodes for each dense layer. This is also an integer and we want at least 5 and at most 512 nodes in each layer of the neural network."
   ]
  },
  {
   "cell_type": "code",
   "execution_count": 9,
   "metadata": {},
   "outputs": [],
   "source": [
    "dim_num_dense_nodes = Integer(low=5, high=512, name='num_dense_nodes')"
   ]
  },
  {
   "cell_type": "markdown",
   "metadata": {},
   "source": [
    "This is the search-dimension for the activation-function. This is a combinatorial or categorical parameter which can be either 'relu' or 'sigmoid'."
   ]
  },
  {
   "cell_type": "code",
   "execution_count": 10,
   "metadata": {},
   "outputs": [],
   "source": [
    "dim_activation = Categorical(categories=['relu', 'sigmoid'],\n",
    "                             name='activation')"
   ]
  },
  {
   "cell_type": "markdown",
   "metadata": {},
   "source": [
    "We then combine all these search-dimensions into a list."
   ]
  },
  {
   "cell_type": "code",
   "execution_count": 11,
   "metadata": {},
   "outputs": [],
   "source": [
    "dimensions = [dim_learning_rate,\n",
    "              dim_num_dense_layers,\n",
    "              dim_num_dense_nodes,\n",
    "              dim_activation]"
   ]
  },
  {
   "cell_type": "markdown",
   "metadata": {},
   "source": [
    "It is helpful to start the search for hyper-parameters with a decent choice that we have found by hand-tuning. But we will use the following parameters that do not perform so well, so as to better demonstrate the usefulness of hyper-parameter optimization: A learning-rate of 1e-5, a single dense layer with 16 nodes, and relu activation-functions.\n",
    "\n",
    "Note that these hyper-parameters are packed in a single list. This is how `skopt` works internally on hyper-parameters. You therefore need to ensure that the order of the dimensions are consistent with the order given in `dimensions` above."
   ]
  },
  {
   "cell_type": "code",
   "execution_count": 12,
   "metadata": {},
   "outputs": [],
   "source": [
    "default_parameters = [1e-5, 1, 16, 'relu']"
   ]
  },
  {
   "cell_type": "markdown",
   "metadata": {},
   "source": [
    "### Helper-function for log-dir-name\n",
    "\n",
    "We will log the training-progress for all parameter-combinations so they can be viewed and compared using TensorBoard. This is done by setting a common parent-dir and then have a sub-dir for each parameter-combination with an appropriate name."
   ]
  },
  {
   "cell_type": "code",
   "execution_count": 13,
   "metadata": {},
   "outputs": [],
   "source": [
    "def log_dir_name(learning_rate, num_dense_layers,\n",
    "                 num_dense_nodes, activation):\n",
    "\n",
    "    # The dir-name for the TensorBoard log-dir.\n",
    "    s = \"./19_logs/lr_{0:.0e}_layers_{1}_nodes_{2}_{3}/\"\n",
    "\n",
    "    # Insert all the hyper-parameters in the dir-name.\n",
    "    log_dir = s.format(learning_rate,\n",
    "                       num_dense_layers,\n",
    "                       num_dense_nodes,\n",
    "                       activation)\n",
    "\n",
    "    return log_dir"
   ]
  },
  {
   "cell_type": "markdown",
   "metadata": {},
   "source": [
    "## Load Data"
   ]
  },
  {
   "cell_type": "markdown",
   "metadata": {},
   "source": [
    "The MNIST data-set is about 12 MB and will be downloaded automatically if it is not located in the given dir."
   ]
  },
  {
   "cell_type": "code",
   "execution_count": 14,
   "metadata": {},
   "outputs": [],
   "source": [
    "from mnist import MNIST\n",
    "data = MNIST(data_dir=\"data/MNIST/\")"
   ]
  },
  {
   "cell_type": "markdown",
   "metadata": {},
   "source": [
    "The MNIST data-set has now been loaded and consists of 70.000 images and class-numbers for the images. The data-set is split into 3 mutually exclusive sub-sets. We will only use the training and test-sets in this tutorial."
   ]
  },
  {
   "cell_type": "code",
   "execution_count": 15,
   "metadata": {},
   "outputs": [
    {
     "name": "stdout",
     "output_type": "stream",
     "text": [
      "Size of:\n",
      "- Training-set:\t\t55000\n",
      "- Validation-set:\t5000\n",
      "- Test-set:\t\t10000\n"
     ]
    }
   ],
   "source": [
    "print(\"Size of:\")\n",
    "print(\"- Training-set:\\t\\t{}\".format(data.num_train))\n",
    "print(\"- Validation-set:\\t{}\".format(data.num_val))\n",
    "print(\"- Test-set:\\t\\t{}\".format(data.num_test))"
   ]
  },
  {
   "cell_type": "markdown",
   "metadata": {},
   "source": [
    "Copy some of the data-dimensions for convenience."
   ]
  },
  {
   "cell_type": "code",
   "execution_count": 16,
   "metadata": {},
   "outputs": [],
   "source": [
    "# The number of pixels in each dimension of an image.\n",
    "img_size = data.img_size\n",
    "\n",
    "# The images are stored in one-dimensional arrays of this length.\n",
    "img_size_flat = data.img_size_flat\n",
    "\n",
    "# Tuple with height and width of images used to reshape arrays.\n",
    "img_shape = data.img_shape\n",
    "\n",
    "# Tuple with height, width and depth used to reshape arrays.\n",
    "# This is used for reshaping in Keras.\n",
    "img_shape_full = data.img_shape_full\n",
    "\n",
    "# Number of classes, one class for each of 10 digits.\n",
    "num_classes = data.num_classes\n",
    "\n",
    "# Number of colour channels for the images: 1 channel for gray-scale.\n",
    "num_channels = data.num_channels"
   ]
  },
  {
   "cell_type": "markdown",
   "metadata": {},
   "source": [
    "We use the performance on the validation-set as an indication of which choice of hyper-parameters performs the best on previously unseen data. The Keras API needs the validation-set as a tuple."
   ]
  },
  {
   "cell_type": "code",
   "execution_count": 17,
   "metadata": {},
   "outputs": [],
   "source": [
    "validation_data = (data.x_val, data.y_val)"
   ]
  },
  {
   "cell_type": "markdown",
   "metadata": {},
   "source": [
    "### Helper-function for plotting images"
   ]
  },
  {
   "cell_type": "markdown",
   "metadata": {},
   "source": [
    "Function used to plot 9 images in a 3x3 grid, and writing the true and predicted classes below each image."
   ]
  },
  {
   "cell_type": "code",
   "execution_count": 18,
   "metadata": {},
   "outputs": [],
   "source": [
    "def plot_images(images, cls_true, cls_pred=None):\n",
    "    assert len(images) == len(cls_true) == 9\n",
    "    \n",
    "    # Create figure with 3x3 sub-plots.\n",
    "    fig, axes = plt.subplots(3, 3)\n",
    "    fig.subplots_adjust(hspace=0.3, wspace=0.3)\n",
    "\n",
    "    for i, ax in enumerate(axes.flat):\n",
    "        # Plot image.\n",
    "        ax.imshow(images[i].reshape(img_shape), cmap='binary')\n",
    "\n",
    "        # Show true and predicted classes.\n",
    "        if cls_pred is None:\n",
    "            xlabel = \"True: {0}\".format(cls_true[i])\n",
    "        else:\n",
    "            xlabel = \"True: {0}, Pred: {1}\".format(cls_true[i], cls_pred[i])\n",
    "\n",
    "        # Show the classes as the label on the x-axis.\n",
    "        ax.set_xlabel(xlabel)\n",
    "        \n",
    "        # Remove ticks from the plot.\n",
    "        ax.set_xticks([])\n",
    "        ax.set_yticks([])\n",
    "    \n",
    "    # Ensure the plot is shown correctly with multiple plots\n",
    "    # in a single Notebook cell.\n",
    "    plt.show()"
   ]
  },
  {
   "cell_type": "markdown",
   "metadata": {},
   "source": [
    "### Plot a few images to see if data is correct"
   ]
  },
  {
   "cell_type": "code",
   "execution_count": 19,
   "metadata": {},
   "outputs": [
    {
     "data": {
      "image/png": "[encoded data removed]",
      "text/plain": [
       "<Figure size 432x288 with 9 Axes>"
      ]
     },
     "metadata": {},
     "output_type": "display_data"
    }
   ],
   "source": [
    "# Get the first images from the test-set.\n",
    "images = data.x_test[0:9]\n",
    "\n",
    "# Get the true classes for those images.\n",
    "cls_true = data.y_test_cls[0:9]\n",
    "\n",
    "# Plot the images and labels using our helper-function above.\n",
    "plot_images(images=images, cls_true=cls_true)"
   ]
  },
  {
   "cell_type": "markdown",
   "metadata": {},
   "source": [
    "### Helper-function to plot example errors\n",
    "\n",
    "Function for plotting examples of images from the test-set that have been mis-classified."
   ]
  },
  {
   "cell_type": "code",
   "execution_count": 20,
   "metadata": {},
   "outputs": [],
   "source": [
    "def plot_example_errors(cls_pred):\n",
    "    # cls_pred is an array of the predicted class-number for\n",
    "    # all images in the test-set.\n",
    "\n",
    "    # Boolean array whether the predicted class is incorrect.\n",
    "    incorrect = (cls_pred != data.y_test_cls)\n",
    "\n",
    "    # Get the images from the test-set that have been\n",
    "    # incorrectly classified.\n",
    "    images = data.x_test[incorrect]\n",
    "    \n",
    "    # Get the predicted classes for those images.\n",
    "    cls_pred = cls_pred[incorrect]\n",
    "\n",
    "    # Get the true classes for those images.\n",
    "    cls_true = data.y_test_cls[incorrect]\n",
    "    \n",
    "    # Plot the first 9 images.\n",
    "    plot_images(images=images[0:9],\n",
    "                cls_true=cls_true[0:9],\n",
    "                cls_pred=cls_pred[0:9])"
   ]
  },
  {
   "cell_type": "markdown",
   "metadata": {},
   "source": [
    "## Hyper-Parameter Optimization\n",
    "\n",
    "There are several steps required to do hyper-parameter optimization.\n",
    "\n",
    "### Create the Model\n",
    "\n",
    "We first need a function that takes a set of hyper-parameters and creates the Convolutional Neural Network corresponding to those parameters. We use Keras to build the neural network in TensorFlow, see Tutorial #03-C for more details."
   ]
  },
  {
   "cell_type": "code",
   "execution_count": 21,
   "metadata": {
    "scrolled": true
   },
   "outputs": [],
   "source": [
    "def create_model(learning_rate, num_dense_layers,\n",
    "                 num_dense_nodes, activation):\n",
    "    \"\"\"\n",
    "    Hyper-parameters:\n",
    "    learning_rate:     Learning-rate for the optimizer.\n",
    "    num_dense_layers:  Number of dense layers.\n",
    "    num_dense_nodes:   Number of nodes in each dense layer.\n",
    "    activation:        Activation function for all layers.\n",
    "    \"\"\"\n",
    "    \n",
    "    # Start construction of a Keras Sequential model.\n",
    "    model = Sequential()\n",
    "\n",
    "    # Add an input layer which is similar to a feed_dict in TensorFlow.\n",
    "    # Note that the input-shape must be a tuple containing the image-size.\n",
    "    model.add(InputLayer(input_shape=(img_size_flat,)))\n",
    "\n",
    "    # The input from MNIST is a flattened array with 784 elements,\n",
    "    # but the convolutional layers expect images with shape (28, 28, 1)\n",
    "    model.add(Reshape(img_shape_full))\n",
    "\n",
    "    # First convolutional layer.\n",
    "    # There are many hyper-parameters in this layer, but we only\n",
    "    # want to optimize the activation-function in this example.\n",
    "    model.add(Conv2D(kernel_size=5, strides=1, filters=16, padding='same',\n",
    "                     activation=activation, name='layer_conv1'))\n",
    "    model.add(MaxPooling2D(pool_size=2, strides=2))\n",
    "\n",
    "    # Second convolutional layer.\n",
    "    # Again, we only want to optimize the activation-function here.\n",
    "    model.add(Conv2D(kernel_size=5, strides=1, filters=36, padding='same',\n",
    "                     activation=activation, name='layer_conv2'))\n",
    "    model.add(MaxPooling2D(pool_size=2, strides=2))\n",
    "\n",
    "    # Flatten the 4-rank output of the convolutional layers\n",
    "    # to 2-rank that can be input to a fully-connected / dense layer.\n",
    "    model.add(Flatten())\n",
    "\n",
    "    # Add fully-connected / dense layers.\n",
    "    # The number of layers is a hyper-parameter we want to optimize.\n",
    "    for i in range(num_dense_layers):\n",
    "        # Name of the layer. This is not really necessary\n",
    "        # because Keras should give them unique names.\n",
    "        name = 'layer_dense_{0}'.format(i+1)\n",
    "\n",
    "        # Add the dense / fully-connected layer to the model.\n",
    "        # This has two hyper-parameters we want to optimize:\n",
    "        # The number of nodes and the activation function.\n",
    "        model.add(Dense(num_dense_nodes,\n",
    "                        activation=activation,\n",
    "                        name=name))\n",
    "\n",
    "    # Last fully-connected / dense layer with softmax-activation\n",
    "    # for use in classification.\n",
    "    model.add(Dense(num_classes, activation='softmax'))\n",
    "    \n",
    "    # Use the Adam method for training the network.\n",
    "    # We want to find the best learning-rate for the Adam method.\n",
    "    optimizer = Adam(lr=learning_rate)\n",
    "    \n",
    "    # In Keras we need to compile the model so it can be trained.\n",
    "    model.compile(optimizer=optimizer,\n",
    "                  loss='categorical_crossentropy',\n",
    "                  metrics=['accuracy'])\n",
    "    \n",
    "    return model"
   ]
  },
  {
   "cell_type": "markdown",
   "metadata": {},
   "source": [
    "### Train and Evaluate the Model\n",
    "\n",
    "The neural network with the best hyper-parameters is saved to disk so it can be reloaded later. This is the filename for the model."
   ]
  },
  {
   "cell_type": "code",
   "execution_count": 22,
   "metadata": {},
   "outputs": [],
   "source": [
    "path_best_model = '19_best_model.h5'"
   ]
  },
  {
   "cell_type": "markdown",
   "metadata": {},
   "source": [
    "This is the classification accuracy for the model saved to disk. It is a global variable which will be updated during optimization of the hyper-parameters."
   ]
  },
  {
   "cell_type": "code",
   "execution_count": 23,
   "metadata": {},
   "outputs": [],
   "source": [
    "best_accuracy = 0.0"
   ]
  },
  {
   "cell_type": "markdown",
   "metadata": {},
   "source": [
    "This is the function that creates and trains a neural network with the given hyper-parameters, and then evaluates its performance on the validation-set. The function then returns the so-called fitness value (aka. objective value), which is the negative classification accuracy on the validation-set. It is negative because `skopt` performs minimization instead of maximization.\n",
    "\n",
    "Note the function decorator `@use_named_args` which wraps the fitness function so that it can be called with all the parameters as a single list, for example: `fitness(x=[1e-4, 3, 256, 'relu'])`. This is the calling-style `skopt` uses internally."
   ]
  },
  {
   "cell_type": "code",
   "execution_count": 24,
   "metadata": {},
   "outputs": [],
   "source": [
    "@use_named_args(dimensions=dimensions)\n",
    "def fitness(learning_rate, num_dense_layers,\n",
    "            num_dense_nodes, activation):\n",
    "    \"\"\"\n",
    "    Hyper-parameters:\n",
    "    learning_rate:     Learning-rate for the optimizer.\n",
    "    num_dense_layers:  Number of dense layers.\n",
    "    num_dense_nodes:   Number of nodes in each dense layer.\n",
    "    activation:        Activation function for all layers.\n",
    "    \"\"\"\n",
    "\n",
    "    # Print the hyper-parameters.\n",
    "    print('learning rate: {0:.1e}'.format(learning_rate))\n",
    "    print('num_dense_layers:', num_dense_layers)\n",
    "    print('num_dense_nodes:', num_dense_nodes)\n",
    "    print('activation:', activation)\n",
    "    print()\n",
    "    \n",
    "    # Create the neural network with these hyper-parameters.\n",
    "    model = create_model(learning_rate=learning_rate,\n",
    "                         num_dense_layers=num_dense_layers,\n",
    "                         num_dense_nodes=num_dense_nodes,\n",
    "                         activation=activation)\n",
    "\n",
    "    # Dir-name for the TensorBoard log-files.\n",
    "    log_dir = log_dir_name(learning_rate, num_dense_layers,\n",
    "                           num_dense_nodes, activation)\n",
    "    \n",
    "    # Create a callback-function for Keras which will be\n",
    "    # run after each epoch has ended during training.\n",
    "    # This saves the log-files for TensorBoard.\n",
    "    # Note that there are complications when histogram_freq=1.\n",
    "    # It might give strange errors and it also does not properly\n",
    "    # support Keras data-generators for the validation-set.\n",
    "    callback_log = TensorBoard(\n",
    "        log_dir=log_dir,\n",
    "        histogram_freq=0,\n",
    "        write_graph=True,\n",
    "        write_grads=False,\n",
    "        write_images=False)\n",
    "   \n",
    "    # Use Keras to train the model.\n",
    "    history = model.fit(x=data.x_train,\n",
    "                        y=data.y_train,\n",
    "                        epochs=3,\n",
    "                        batch_size=128,\n",
    "                        validation_data=validation_data,\n",
    "                        callbacks=[callback_log])\n",
    "\n",
    "    # Get the classification accuracy on the validation-set\n",
    "    # after the last training-epoch.\n",
    "    accuracy = history.history['val_accuracy'][-1]\n",
    "\n",
    "    # Print the classification accuracy.\n",
    "    print()\n",
    "    print(\"Accuracy: {0:.2%}\".format(accuracy))\n",
    "    print()\n",
    "\n",
    "    # Save the model if it improves on the best-found performance.\n",
    "    # We use the global keyword so we update the variable outside\n",
    "    # of this function.\n",
    "    global best_accuracy\n",
    "\n",
    "    # If the classification accuracy of the saved model is improved ...\n",
    "    if accuracy > best_accuracy:\n",
    "        # Save the new model to harddisk.\n",
    "        model.save(path_best_model)\n",
    "        \n",
    "        # Update the classification accuracy.\n",
    "        best_accuracy = accuracy\n",
    "\n",
    "    # Delete the Keras model with these hyper-parameters from memory.\n",
    "    del model\n",
    "    \n",
    "    # Clear the Keras session, otherwise it will keep adding new\n",
    "    # models to the same TensorFlow graph each time we create\n",
    "    # a model with a different set of hyper-parameters.\n",
    "    K.clear_session()\n",
    "    \n",
    "    # NOTE: Scikit-optimize does minimization so it tries to\n",
    "    # find a set of hyper-parameters with the LOWEST fitness-value.\n",
    "    # Because we are interested in the HIGHEST classification\n",
    "    # accuracy, we need to negate this number so it can be minimized.\n",
    "    return -accuracy"
   ]
  },
  {
   "cell_type": "markdown",
   "metadata": {},
   "source": [
    "### Test Run\n",
    "\n",
    "Before we run the hyper-parameter optimization, let us first check that the various functions above actually work, when we pass the default hyper-parameters."
   ]
  },
  {
   "cell_type": "code",
   "execution_count": 25,
   "metadata": {
    "scrolled": false
   },
   "outputs": [
    {
     "name": "stdout",
     "output_type": "stream",
     "text": [
      "learning rate: 1.0e-05\n",
      "num_dense_layers: 1\n",
      "num_dense_nodes: 16\n",
      "activation: relu\n",
      "\n",
      "Train on 55000 samples, validate on 5000 samples\n",
      "Epoch 1/3\n",
      "55000/55000 [==============================] - 4s 64us/sample - loss: 2.2207 - accuracy: 0.2039 - val_loss: 2.0769 - val_accuracy: 0.3326\n",
      "Epoch 2/3\n",
      "55000/55000 [==============================] - 2s 39us/sample - loss: 1.8787 - accuracy: 0.4489 - val_loss: 1.5766 - val_accuracy: 0.6934\n",
      "Epoch 3/3\n",
      "55000/55000 [==============================] - 2s 39us/sample - loss: 1.3661 - accuracy: 0.7220 - val_loss: 1.0646 - val_accuracy: 0.8080\n",
      "\n",
      "Accuracy: 80.80%\n",
      "\n"
     ]
    },
    {
     "data": {
      "text/plain": [
       "-0.808"
      ]
     },
     "execution_count": 25,
     "metadata": {},
     "output_type": "execute_result"
    }
   ],
   "source": [
    "fitness(x=default_parameters)"
   ]
  },
  {
   "cell_type": "markdown",
   "metadata": {},
   "source": [
    "### Run the Hyper-Parameter Optimization\n",
    "\n",
    "Now we are ready to run the actual hyper-parameter optimization using Bayesian optimization from the scikit-optimize package. Note that it first calls `fitness()` with `default_parameters` as the starting point we have found by hand-tuning, which should help the optimizer locate better hyper-parameters faster.\n",
    "\n",
    "There are many more parameters you can experiment with here, including the number of calls to the `fitness()` function which we have set to 40. But `fitness()` is very expensive to evaluate so it should not be run too many times, especially for larger neural networks and datasets.\n",
    "\n",
    "You can also experiment with the so-called acquisition function which determines how to find a new set of hyper-parameters from the internal model of the Bayesian optimizer. You can also try using another Bayesian optimizer such as Random Forests."
   ]
  },
  {
   "cell_type": "code",
   "execution_count": 26,
   "metadata": {},
   "outputs": [
    {
     "name": "stdout",
     "output_type": "stream",
     "text": [
      "learning rate: 1.0e-05\n",
      "num_dense_layers: 1\n",
      "num_dense_nodes: 16\n",
      "activation: relu\n",
      "\n",
      "Train on 55000 samples, validate on 5000 samples\n",
      "Epoch 1/3\n",
      "55000/55000 [==============================] - 3s 47us/sample - loss: 2.2126 - accuracy: 0.3096 - val_loss: 2.0888 - val_accuracy: 0.4494\n",
      "Epoch 2/3\n",
      "55000/55000 [==============================] - 2s 38us/sample - loss: 1.9393 - accuracy: 0.4852 - val_loss: 1.7300 - val_accuracy: 0.5342\n",
      "Epoch 3/3\n",
      "55000/55000 [==============================] - 2s 38us/sample - loss: 1.5558 - accuracy: 0.5634 - val_loss: 1.2548 - val_accuracy: 0.7250\n",
      "\n",
      "Accuracy: 72.50%\n",
      "\n",
      "learning rate: 7.0e-04\n",
      "num_dense_layers: 1\n",
      "num_dense_nodes: 365\n",
      "activation: relu\n",
      "\n",
      "Train on 55000 samples, validate on 5000 samples\n",
      "Epoch 1/3\n",
      "55000/55000 [==============================] - 3s 46us/sample - loss: 0.2217 - accuracy: 0.9350 - val_loss: 0.0633 - val_accuracy: 0.9828\n",
      "Epoch 2/3\n",
      "55000/55000 [==============================] - 2s 39us/sample - loss: 0.0576 - accuracy: 0.9822 - val_loss: 0.0507 - val_accuracy: 0.9870\n",
      "Epoch 3/3\n",
      "55000/55000 [==============================] - 2s 39us/sample - loss: 0.0397 - accuracy: 0.9878 - val_loss: 0.0396 - val_accuracy: 0.9892\n",
      "\n",
      "Accuracy: 98.92%\n",
      "\n",
      "learning rate: 6.8e-03\n",
      "num_dense_layers: 4\n",
      "num_dense_nodes: 466\n",
      "activation: relu\n",
      "\n",
      "Train on 55000 samples, validate on 5000 samples\n",
      "Epoch 1/3\n",
      "55000/55000 [==============================] - 3s 53us/sample - loss: 2.3098 - accuracy: 0.1117 - val_loss: 2.3022 - val_accuracy: 0.1060\n",
      "Epoch 2/3\n",
      "55000/55000 [==============================] - 2s 44us/sample - loss: 2.3015 - accuracy: 0.1123 - val_loss: 2.3016 - val_accuracy: 0.1060\n",
      "Epoch 3/3\n",
      "55000/55000 [==============================] - 3s 47us/sample - loss: 2.3017 - accuracy: 0.1123 - val_loss: 2.3019 - val_accuracy: 0.1060\n",
      "\n",
      "Accuracy: 10.60%\n",
      "\n",
      "learning rate: 9.8e-04\n",
      "num_dense_layers: 5\n",
      "num_dense_nodes: 122\n",
      "activation: sigmoid\n",
      "\n",
      "Train on 55000 samples, validate on 5000 samples\n",
      "Epoch 1/3\n",
      "55000/55000 [==============================] - 3s 54us/sample - loss: 2.3093 - accuracy: 0.1038 - val_loss: 2.3061 - val_accuracy: 0.1060\n",
      "Epoch 2/3\n",
      "55000/55000 [==============================] - 2s 42us/sample - loss: 2.3057 - accuracy: 0.1078 - val_loss: 2.3039 - val_accuracy: 0.1060\n",
      "Epoch 3/3\n",
      "55000/55000 [==============================] - 2s 41us/sample - loss: 2.3053 - accuracy: 0.1073 - val_loss: 2.3054 - val_accuracy: 0.0978\n",
      "\n",
      "Accuracy: 9.78%\n",
      "\n",
      "learning rate: 3.7e-04\n",
      "num_dense_layers: 3\n",
      "num_dense_nodes: 72\n",
      "activation: sigmoid\n",
      "\n",
      "Train on 55000 samples, validate on 5000 samples\n",
      "Epoch 1/3\n",
      "55000/55000 [==============================] - 3s 48us/sample - loss: 2.3049 - accuracy: 0.1066 - val_loss: 2.3042 - val_accuracy: 0.1060\n",
      "Epoch 2/3\n",
      "55000/55000 [==============================] - 2s 40us/sample - loss: 2.3008 - accuracy: 0.1220 - val_loss: 2.2349 - val_accuracy: 0.2808\n",
      "Epoch 3/3\n",
      "55000/55000 [==============================] - 3s 55us/sample - loss: 1.1898 - accuracy: 0.7546 - val_loss: 0.5112 - val_accuracy: 0.9176\n",
      "\n",
      "Accuracy: 91.76%\n",
      "\n",
      "learning rate: 6.7e-04\n",
      "num_dense_layers: 3\n",
      "num_dense_nodes: 230\n",
      "activation: sigmoid\n",
      "\n",
      "Train on 55000 samples, validate on 5000 samples\n",
      "Epoch 1/3\n",
      "55000/55000 [==============================] - 3s 57us/sample - loss: 1.9215 - accuracy: 0.2895 - val_loss: 0.5522 - val_accuracy: 0.8572\n",
      "Epoch 2/3\n",
      "55000/55000 [==============================] - 5s 90us/sample - loss: 0.3142 - accuracy: 0.9098 - val_loss: 0.1402 - val_accuracy: 0.9612\n",
      "Epoch 3/3\n",
      "55000/55000 [==============================] - 3s 54us/sample - loss: 0.1451 - accuracy: 0.9567 - val_loss: 0.0997 - val_accuracy: 0.9708\n",
      "\n",
      "Accuracy: 97.08%\n",
      "\n",
      "learning rate: 9.7e-03\n",
      "num_dense_layers: 3\n",
      "num_dense_nodes: 132\n",
      "activation: relu\n",
      "\n",
      "Train on 55000 samples, validate on 5000 samples\n",
      "Epoch 1/3\n",
      "55000/55000 [==============================] - 3s 53us/sample - loss: 0.2108 - accuracy: 0.9304 - val_loss: 0.0595 - val_accuracy: 0.9840\n",
      "Epoch 2/3\n",
      "55000/55000 [==============================] - 2s 45us/sample - loss: 0.0719 - accuracy: 0.9801 - val_loss: 0.0487 - val_accuracy: 0.9874\n",
      "Epoch 3/3\n",
      "55000/55000 [==============================] - 3s 50us/sample - loss: 0.0673 - accuracy: 0.9824 - val_loss: 0.0474 - val_accuracy: 0.9870\n",
      "\n",
      "Accuracy: 98.70%\n",
      "\n",
      "learning rate: 1.6e-04\n",
      "num_dense_layers: 4\n",
      "num_dense_nodes: 112\n",
      "activation: sigmoid\n",
      "\n",
      "Train on 55000 samples, validate on 5000 samples\n",
      "Epoch 1/3\n",
      "55000/55000 [==============================] - 8s 149us/sample - loss: 2.3076 - accuracy: 0.1080 - val_loss: 2.3030 - val_accuracy: 0.1060\n",
      "Epoch 2/3\n",
      "55000/55000 [==============================] - 6s 118us/sample - loss: 2.2995 - accuracy: 0.1135 - val_loss: 2.2653 - val_accuracy: 0.1128\n",
      "Epoch 3/3\n",
      "55000/55000 [==============================] - 6s 115us/sample - loss: 1.7192 - accuracy: 0.4761 - val_loss: 1.1804 - val_accuracy: 0.6904\n",
      "\n",
      "Accuracy: 69.04%\n",
      "\n",
      "learning rate: 7.7e-05\n",
      "num_dense_layers: 5\n",
      "num_dense_nodes: 154\n",
      "activation: relu\n",
      "\n",
      "Train on 55000 samples, validate on 5000 samples\n",
      "Epoch 1/3\n",
      "55000/55000 [==============================] - 3s 56us/sample - loss: 0.8023 - accuracy: 0.7727 - val_loss: 0.2123 - val_accuracy: 0.9404\n",
      "Epoch 2/3\n",
      "55000/55000 [==============================] - 3s 49us/sample - loss: 0.2085 - accuracy: 0.9384 - val_loss: 0.1236 - val_accuracy: 0.9644\n",
      "Epoch 3/3\n",
      "55000/55000 [==============================] - 7s 125us/sample - loss: 0.1413 - accuracy: 0.9564 - val_loss: 0.0950 - val_accuracy: 0.9746\n",
      "\n",
      "Accuracy: 97.46%\n",
      "\n",
      "learning rate: 2.9e-03\n",
      "num_dense_layers: 4\n",
      "num_dense_nodes: 156\n",
      "activation: sigmoid\n",
      "\n",
      "Train on 55000 samples, validate on 5000 samples\n",
      "Epoch 1/3\n",
      "55000/55000 [==============================] - 4s 75us/sample - loss: 2.3168 - accuracy: 0.1028 - val_loss: 2.3084 - val_accuracy: 0.1060\n",
      "Epoch 2/3\n",
      "55000/55000 [==============================] - 3s 51us/sample - loss: 2.3055 - accuracy: 0.1059 - val_loss: 2.3023 - val_accuracy: 0.1060\n",
      "Epoch 3/3\n",
      "55000/55000 [==============================] - 6s 101us/sample - loss: 2.3016 - accuracy: 0.1119 - val_loss: 2.3027 - val_accuracy: 0.1060\n",
      "\n",
      "Accuracy: 10.60%\n",
      "\n",
      "learning rate: 1.1e-05\n",
      "num_dense_layers: 1\n",
      "num_dense_nodes: 496\n",
      "activation: relu\n",
      "\n",
      "Train on 55000 samples, validate on 5000 samples\n",
      "Epoch 1/3\n",
      "55000/55000 [==============================] - 10s 185us/sample - loss: 1.8064 - accuracy: 0.6548 - val_loss: 1.0878 - val_accuracy: 0.8440\n",
      "Epoch 2/3\n",
      "55000/55000 [==============================] - 7s 124us/sample - loss: 0.7844 - accuracy: 0.8393 - val_loss: 0.4786 - val_accuracy: 0.9046\n",
      "Epoch 3/3\n",
      "55000/55000 [==============================] - 7s 128us/sample - loss: 0.4776 - accuracy: 0.8791 - val_loss: 0.3288 - val_accuracy: 0.9226\n",
      "\n",
      "Accuracy: 92.26%\n",
      "\n",
      "learning rate: 3.4e-03\n",
      "num_dense_layers: 2\n",
      "num_dense_nodes: 451\n",
      "activation: relu\n",
      "\n",
      "Train on 55000 samples, validate on 5000 samples\n",
      "Epoch 1/3\n",
      "55000/55000 [==============================] - 3s 62us/sample - loss: 0.1423 - accuracy: 0.9556 - val_loss: 0.0378 - val_accuracy: 0.9904\n",
      "Epoch 2/3\n",
      "55000/55000 [==============================] - 3s 52us/sample - loss: 0.0438 - accuracy: 0.9869 - val_loss: 0.0379 - val_accuracy: 0.9896\n",
      "Epoch 3/3\n",
      "55000/55000 [==============================] - 6s 106us/sample - loss: 0.0342 - accuracy: 0.9892 - val_loss: 0.0370 - val_accuracy: 0.9890\n",
      "\n",
      "Accuracy: 98.90%\n",
      "\n",
      "learning rate: 1.2e-05\n",
      "num_dense_layers: 5\n",
      "num_dense_nodes: 182\n",
      "activation: relu\n",
      "\n",
      "Train on 55000 samples, validate on 5000 samples\n",
      "Epoch 1/3\n",
      "55000/55000 [==============================] - 3s 59us/sample - loss: 1.9464 - accuracy: 0.4581 - val_loss: 1.0907 - val_accuracy: 0.8004\n",
      "Epoch 2/3\n",
      "55000/55000 [==============================] - 3s 48us/sample - loss: 0.6953 - accuracy: 0.8265 - val_loss: 0.3989 - val_accuracy: 0.8992\n",
      "Epoch 3/3\n",
      "55000/55000 [==============================] - 4s 78us/sample - loss: 0.4034 - accuracy: 0.8862 - val_loss: 0.2750 - val_accuracy: 0.9256\n",
      "\n",
      "Accuracy: 92.56%\n",
      "\n",
      "learning rate: 2.8e-04\n",
      "num_dense_layers: 2\n",
      "num_dense_nodes: 512\n",
      "activation: sigmoid\n",
      "\n",
      "Train on 55000 samples, validate on 5000 samples\n",
      "Epoch 1/3\n",
      "55000/55000 [==============================] - 3s 56us/sample - loss: 1.8869 - accuracy: 0.3200 - val_loss: 0.5330 - val_accuracy: 0.8646\n",
      "Epoch 2/3\n",
      "55000/55000 [==============================] - 3s 52us/sample - loss: 0.3947 - accuracy: 0.8847 - val_loss: 0.2235 - val_accuracy: 0.9346\n",
      "Epoch 3/3\n"
     ]
    },
    {
     "name": "stdout",
     "output_type": "stream",
     "text": [
      "55000/55000 [==============================] - 4s 78us/sample - loss: 0.2316 - accuracy: 0.9292 - val_loss: 0.1444 - val_accuracy: 0.9592\n",
      "\n",
      "Accuracy: 95.92%\n",
      "\n",
      "learning rate: 3.4e-03\n",
      "num_dense_layers: 3\n",
      "num_dense_nodes: 5\n",
      "activation: sigmoid\n",
      "\n",
      "Train on 55000 samples, validate on 5000 samples\n",
      "Epoch 1/3\n",
      "55000/55000 [==============================] - 4s 64us/sample - loss: 2.3031 - accuracy: 0.1100 - val_loss: 2.3020 - val_accuracy: 0.1060\n",
      "Epoch 2/3\n",
      "55000/55000 [==============================] - 3s 46us/sample - loss: 2.3020 - accuracy: 0.1118 - val_loss: 2.3021 - val_accuracy: 0.1060\n",
      "Epoch 3/3\n",
      "55000/55000 [==============================] - 4s 70us/sample - loss: 2.3019 - accuracy: 0.1128 - val_loss: 2.3018 - val_accuracy: 0.1060\n",
      "\n",
      "Accuracy: 10.60%\n",
      "\n",
      "learning rate: 1.0e-02\n",
      "num_dense_layers: 2\n",
      "num_dense_nodes: 104\n",
      "activation: relu\n",
      "\n",
      "Train on 55000 samples, validate on 5000 samples\n",
      "Epoch 1/3\n",
      "55000/55000 [==============================] - 3s 52us/sample - loss: 0.1708 - accuracy: 0.9451 - val_loss: 0.0552 - val_accuracy: 0.9836\n",
      "Epoch 2/3\n",
      "55000/55000 [==============================] - 3s 46us/sample - loss: 0.0630 - accuracy: 0.9813 - val_loss: 0.0551 - val_accuracy: 0.9836\n",
      "Epoch 3/3\n",
      "55000/55000 [==============================] - 3s 46us/sample - loss: 0.0514 - accuracy: 0.9851 - val_loss: 0.0415 - val_accuracy: 0.9904\n",
      "\n",
      "Accuracy: 99.04%\n",
      "\n",
      "learning rate: 5.5e-04\n",
      "num_dense_layers: 3\n",
      "num_dense_nodes: 277\n",
      "activation: sigmoid\n",
      "\n",
      "Train on 55000 samples, validate on 5000 samples\n",
      "Epoch 1/3\n",
      "55000/55000 [==============================] - 4s 78us/sample - loss: 2.0127 - accuracy: 0.2534 - val_loss: 0.6090 - val_accuracy: 0.8268\n",
      "Epoch 2/3\n",
      "55000/55000 [==============================] - 3s 50us/sample - loss: 0.3406 - accuracy: 0.9004 - val_loss: 0.1451 - val_accuracy: 0.9582\n",
      "Epoch 3/3\n",
      "55000/55000 [==============================] - 4s 80us/sample - loss: 0.1563 - accuracy: 0.9533 - val_loss: 0.0969 - val_accuracy: 0.9700\n",
      "\n",
      "Accuracy: 97.00%\n",
      "\n",
      "learning rate: 2.8e-03\n",
      "num_dense_layers: 2\n",
      "num_dense_nodes: 441\n",
      "activation: relu\n",
      "\n",
      "Train on 55000 samples, validate on 5000 samples\n",
      "Epoch 1/3\n",
      "55000/55000 [==============================] - 3s 58us/sample - loss: 0.1397 - accuracy: 0.9561 - val_loss: 0.0428 - val_accuracy: 0.9864\n",
      "Epoch 2/3\n",
      "55000/55000 [==============================] - 3s 49us/sample - loss: 0.0471 - accuracy: 0.9853 - val_loss: 0.0401 - val_accuracy: 0.9892\n",
      "Epoch 3/3\n",
      "55000/55000 [==============================] - 7s 120us/sample - loss: 0.0316 - accuracy: 0.9905 - val_loss: 0.0482 - val_accuracy: 0.9882\n",
      "\n",
      "Accuracy: 98.82%\n",
      "\n",
      "learning rate: 5.0e-04\n",
      "num_dense_layers: 2\n",
      "num_dense_nodes: 309\n",
      "activation: relu\n",
      "\n",
      "Train on 55000 samples, validate on 5000 samples\n",
      "Epoch 1/3\n",
      "55000/55000 [==============================] - 3s 56us/sample - loss: 0.2504 - accuracy: 0.9302 - val_loss: 0.0794 - val_accuracy: 0.9784\n",
      "Epoch 2/3\n",
      "55000/55000 [==============================] - 3s 49us/sample - loss: 0.0642 - accuracy: 0.9801 - val_loss: 0.0631 - val_accuracy: 0.9814\n",
      "Epoch 3/3\n",
      "55000/55000 [==============================] - 5s 83us/sample - loss: 0.0439 - accuracy: 0.9861 - val_loss: 0.0465 - val_accuracy: 0.9878\n",
      "\n",
      "Accuracy: 98.78%\n",
      "\n",
      "learning rate: 1.1e-04\n",
      "num_dense_layers: 1\n",
      "num_dense_nodes: 512\n",
      "activation: relu\n",
      "\n",
      "Train on 55000 samples, validate on 5000 samples\n",
      "Epoch 1/3\n",
      "55000/55000 [==============================] - 4s 64us/sample - loss: 0.5362 - accuracy: 0.8733 - val_loss: 0.1483 - val_accuracy: 0.9572\n",
      "Epoch 2/3\n",
      "55000/55000 [==============================] - 3s 50us/sample - loss: 0.1423 - accuracy: 0.9581 - val_loss: 0.0895 - val_accuracy: 0.9730\n",
      "Epoch 3/3\n",
      "55000/55000 [==============================] - 4s 81us/sample - loss: 0.0942 - accuracy: 0.9724 - val_loss: 0.0687 - val_accuracy: 0.9806\n",
      "\n",
      "Accuracy: 98.06%\n",
      "\n",
      "learning rate: 5.5e-05\n",
      "num_dense_layers: 2\n",
      "num_dense_nodes: 512\n",
      "activation: relu\n",
      "\n",
      "Train on 55000 samples, validate on 5000 samples\n",
      "Epoch 1/3\n",
      "55000/55000 [==============================] - 3s 58us/sample - loss: 0.7263 - accuracy: 0.8272 - val_loss: 0.1854 - val_accuracy: 0.9470\n",
      "Epoch 2/3\n",
      "55000/55000 [==============================] - 3s 51us/sample - loss: 0.1967 - accuracy: 0.9415 - val_loss: 0.1209 - val_accuracy: 0.9666\n",
      "Epoch 3/3\n",
      "55000/55000 [==============================] - 6s 115us/sample - loss: 0.1333 - accuracy: 0.9604 - val_loss: 0.0909 - val_accuracy: 0.9748\n",
      "\n",
      "Accuracy: 97.48%\n",
      "\n",
      "learning rate: 3.5e-05\n",
      "num_dense_layers: 4\n",
      "num_dense_nodes: 512\n",
      "activation: relu\n",
      "\n",
      "Train on 55000 samples, validate on 5000 samples\n",
      "Epoch 1/3\n",
      "55000/55000 [==============================] - 4s 70us/sample - loss: 0.7778 - accuracy: 0.8057 - val_loss: 0.1853 - val_accuracy: 0.9496\n",
      "Epoch 2/3\n",
      "55000/55000 [==============================] - 3s 54us/sample - loss: 0.1914 - accuracy: 0.9435 - val_loss: 0.1170 - val_accuracy: 0.9678\n",
      "Epoch 3/3\n",
      "55000/55000 [==============================] - 6s 107us/sample - loss: 0.1281 - accuracy: 0.9622 - val_loss: 0.0848 - val_accuracy: 0.9778\n",
      "\n",
      "Accuracy: 97.78%\n",
      "\n",
      "learning rate: 3.6e-05\n",
      "num_dense_layers: 5\n",
      "num_dense_nodes: 446\n",
      "activation: relu\n",
      "\n",
      "Train on 55000 samples, validate on 5000 samples\n",
      "Epoch 1/3\n",
      "55000/55000 [==============================] - 3s 63us/sample - loss: 0.7959 - accuracy: 0.8041 - val_loss: 0.1977 - val_accuracy: 0.9454\n",
      "Epoch 2/3\n",
      "55000/55000 [==============================] - 3s 53us/sample - loss: 0.1957 - accuracy: 0.9419 - val_loss: 0.1231 - val_accuracy: 0.9658\n",
      "Epoch 3/3\n",
      "55000/55000 [==============================] - 6s 110us/sample - loss: 0.1334 - accuracy: 0.9598 - val_loss: 0.0973 - val_accuracy: 0.9734\n",
      "\n",
      "Accuracy: 97.34%\n",
      "\n",
      "learning rate: 6.6e-05\n",
      "num_dense_layers: 4\n",
      "num_dense_nodes: 143\n",
      "activation: relu\n",
      "\n",
      "Train on 55000 samples, validate on 5000 samples\n",
      "Epoch 1/3\n",
      "55000/55000 [==============================] - 4s 67us/sample - loss: 0.8583 - accuracy: 0.7593 - val_loss: 0.2149 - val_accuracy: 0.9410\n",
      "Epoch 2/3\n",
      "55000/55000 [==============================] - 3s 50us/sample - loss: 0.2304 - accuracy: 0.9302 - val_loss: 0.1499 - val_accuracy: 0.9538\n",
      "Epoch 3/3\n",
      "55000/55000 [==============================] - 5s 86us/sample - loss: 0.1615 - accuracy: 0.9511 - val_loss: 0.1022 - val_accuracy: 0.9700\n",
      "\n",
      "Accuracy: 97.00%\n",
      "\n",
      "learning rate: 2.2e-04\n",
      "num_dense_layers: 2\n",
      "num_dense_nodes: 195\n",
      "activation: sigmoid\n",
      "\n",
      "Train on 55000 samples, validate on 5000 samples\n",
      "Epoch 1/3\n",
      "55000/55000 [==============================] - 3s 53us/sample - loss: 2.2477 - accuracy: 0.1821 - val_loss: 1.6547 - val_accuracy: 0.6054\n",
      "Epoch 2/3\n",
      "55000/55000 [==============================] - 3s 49us/sample - loss: 0.8448 - accuracy: 0.7859 - val_loss: 0.4386 - val_accuracy: 0.8970\n",
      "Epoch 3/3\n",
      "55000/55000 [==============================] - 3s 61us/sample - loss: 0.4028 - accuracy: 0.8893 - val_loss: 0.2623 - val_accuracy: 0.9310\n",
      "\n",
      "Accuracy: 93.10%\n",
      "\n",
      "learning rate: 4.2e-05\n",
      "num_dense_layers: 1\n",
      "num_dense_nodes: 512\n",
      "activation: sigmoid\n",
      "\n",
      "Train on 55000 samples, validate on 5000 samples\n",
      "Epoch 1/3\n",
      "55000/55000 [==============================] - 3s 61us/sample - loss: 2.3073 - accuracy: 0.1076 - val_loss: 2.2982 - val_accuracy: 0.1126\n",
      "Epoch 2/3\n",
      "55000/55000 [==============================] - 3s 49us/sample - loss: 2.2914 - accuracy: 0.1344 - val_loss: 2.2685 - val_accuracy: 0.1802\n",
      "Epoch 3/3\n",
      "55000/55000 [==============================] - 4s 79us/sample - loss: 2.1696 - accuracy: 0.3317 - val_loss: 1.9508 - val_accuracy: 0.5936\n",
      "\n",
      "Accuracy: 59.36%\n",
      "\n",
      "learning rate: 5.1e-06\n",
      "num_dense_layers: 3\n",
      "num_dense_nodes: 512\n",
      "activation: relu\n",
      "\n",
      "Train on 55000 samples, validate on 5000 samples\n",
      "Epoch 1/3\n",
      "55000/55000 [==============================] - 3s 59us/sample - loss: 2.0897 - accuracy: 0.5289 - val_loss: 1.6486 - val_accuracy: 0.7448\n",
      "Epoch 2/3\n",
      "55000/55000 [==============================] - 3s 57us/sample - loss: 1.1361 - accuracy: 0.7831 - val_loss: 0.6805 - val_accuracy: 0.8716\n",
      "Epoch 3/3\n",
      "55000/55000 [==============================] - 6s 118us/sample - loss: 0.5963 - accuracy: 0.8549 - val_loss: 0.4089 - val_accuracy: 0.9120\n",
      "\n",
      "Accuracy: 91.20%\n",
      "\n",
      "learning rate: 1.4e-06\n",
      "num_dense_layers: 4\n",
      "num_dense_nodes: 512\n",
      "activation: sigmoid\n",
      "\n",
      "Train on 55000 samples, validate on 5000 samples\n",
      "Epoch 1/3\n",
      "55000/55000 [==============================] - 4s 70us/sample - loss: 2.3907 - accuracy: 0.0994 - val_loss: 2.3302 - val_accuracy: 0.0986\n",
      "Epoch 2/3\n"
     ]
    },
    {
     "name": "stdout",
     "output_type": "stream",
     "text": [
      "55000/55000 [==============================] - 3s 52us/sample - loss: 2.3122 - accuracy: 0.0994 - val_loss: 2.3043 - val_accuracy: 0.0986\n",
      "Epoch 3/3\n",
      "55000/55000 [==============================] - 7s 121us/sample - loss: 2.3020 - accuracy: 0.1115 - val_loss: 2.3020 - val_accuracy: 0.1060\n",
      "\n",
      "Accuracy: 10.60%\n",
      "\n",
      "learning rate: 4.8e-04\n",
      "num_dense_layers: 2\n",
      "num_dense_nodes: 225\n",
      "activation: sigmoid\n",
      "\n",
      "Train on 55000 samples, validate on 5000 samples\n",
      "Epoch 1/3\n",
      "55000/55000 [==============================] - 3s 59us/sample - loss: 1.5780 - accuracy: 0.4531 - val_loss: 0.3782 - val_accuracy: 0.9030\n",
      "Epoch 2/3\n",
      "55000/55000 [==============================] - 3s 52us/sample - loss: 0.2985 - accuracy: 0.9146 - val_loss: 0.1567 - val_accuracy: 0.9564\n",
      "Epoch 3/3\n",
      "55000/55000 [==============================] - 7s 118us/sample - loss: 0.1712 - accuracy: 0.9491 - val_loss: 0.1077 - val_accuracy: 0.9704\n",
      "\n",
      "Accuracy: 97.04%\n",
      "\n",
      "learning rate: 5.5e-03\n",
      "num_dense_layers: 1\n",
      "num_dense_nodes: 512\n",
      "activation: relu\n",
      "\n",
      "Train on 55000 samples, validate on 5000 samples\n",
      "Epoch 1/3\n",
      "55000/55000 [==============================] - 4s 69us/sample - loss: 0.1434 - accuracy: 0.9557 - val_loss: 0.0516 - val_accuracy: 0.9834\n",
      "Epoch 2/3\n",
      "55000/55000 [==============================] - 3s 49us/sample - loss: 0.0457 - accuracy: 0.9858 - val_loss: 0.0441 - val_accuracy: 0.9874\n",
      "Epoch 3/3\n",
      "55000/55000 [==============================] - 6s 110us/sample - loss: 0.0330 - accuracy: 0.9894 - val_loss: 0.0582 - val_accuracy: 0.9854\n",
      "\n",
      "Accuracy: 98.54%\n",
      "\n",
      "learning rate: 2.4e-03\n",
      "num_dense_layers: 3\n",
      "num_dense_nodes: 5\n",
      "activation: relu\n",
      "\n",
      "Train on 55000 samples, validate on 5000 samples\n",
      "Epoch 1/3\n",
      "55000/55000 [==============================] - 3s 63us/sample - loss: 1.1980 - accuracy: 0.5365 - val_loss: 0.3991 - val_accuracy: 0.8454\n",
      "Epoch 2/3\n",
      "55000/55000 [==============================] - 3s 50us/sample - loss: 0.3059 - accuracy: 0.9074 - val_loss: 0.1823 - val_accuracy: 0.9488\n",
      "Epoch 3/3\n",
      "55000/55000 [==============================] - 4s 77us/sample - loss: 0.1815 - accuracy: 0.9497 - val_loss: 0.1492 - val_accuracy: 0.9606\n",
      "\n",
      "Accuracy: 96.06%\n",
      "\n",
      "learning rate: 6.6e-04\n",
      "num_dense_layers: 1\n",
      "num_dense_nodes: 512\n",
      "activation: relu\n",
      "\n",
      "Train on 55000 samples, validate on 5000 samples\n",
      "Epoch 1/3\n",
      "55000/55000 [==============================] - 3s 61us/sample - loss: 0.2145 - accuracy: 0.9392 - val_loss: 0.0638 - val_accuracy: 0.9830\n",
      "Epoch 2/3\n",
      "55000/55000 [==============================] - 3s 51us/sample - loss: 0.0591 - accuracy: 0.9817 - val_loss: 0.0539 - val_accuracy: 0.9856\n",
      "Epoch 3/3\n",
      "55000/55000 [==============================] - 3s 62us/sample - loss: 0.0395 - accuracy: 0.9879 - val_loss: 0.0454 - val_accuracy: 0.9890\n",
      "\n",
      "Accuracy: 98.90%\n",
      "\n",
      "learning rate: 1.0e-06\n",
      "num_dense_layers: 5\n",
      "num_dense_nodes: 512\n",
      "activation: relu\n",
      "\n",
      "Train on 55000 samples, validate on 5000 samples\n",
      "Epoch 1/3\n",
      "55000/55000 [==============================] - 3s 64us/sample - loss: 2.2933 - accuracy: 0.2440 - val_loss: 2.2784 - val_accuracy: 0.4338\n",
      "Epoch 2/3\n",
      "55000/55000 [==============================] - 4s 68us/sample - loss: 2.2577 - accuracy: 0.5072 - val_loss: 2.2230 - val_accuracy: 0.5994\n",
      "Epoch 3/3\n",
      "55000/55000 [==============================] - 8s 154us/sample - loss: 2.1768 - accuracy: 0.6255 - val_loss: 2.0998 - val_accuracy: 0.7048\n",
      "\n",
      "Accuracy: 70.48%\n",
      "\n",
      "learning rate: 2.9e-03\n",
      "num_dense_layers: 2\n",
      "num_dense_nodes: 299\n",
      "activation: relu\n",
      "\n",
      "Train on 55000 samples, validate on 5000 samples\n",
      "Epoch 1/3\n",
      "55000/55000 [==============================] - 4s 69us/sample - loss: 0.1429 - accuracy: 0.9546 - val_loss: 0.0407 - val_accuracy: 0.9882\n",
      "Epoch 2/3\n",
      "55000/55000 [==============================] - 3s 59us/sample - loss: 0.0452 - accuracy: 0.9855 - val_loss: 0.0391 - val_accuracy: 0.9882\n",
      "Epoch 3/3\n",
      "55000/55000 [==============================] - 7s 132us/sample - loss: 0.0310 - accuracy: 0.9903 - val_loss: 0.0370 - val_accuracy: 0.9894\n",
      "\n",
      "Accuracy: 98.94%\n",
      "\n",
      "learning rate: 1.8e-04\n",
      "num_dense_layers: 3\n",
      "num_dense_nodes: 512\n",
      "activation: relu\n",
      "\n",
      "Train on 55000 samples, validate on 5000 samples\n",
      "Epoch 1/3\n",
      "55000/55000 [==============================] - 3s 62us/sample - loss: 0.3695 - accuracy: 0.8938 - val_loss: 0.0923 - val_accuracy: 0.9740\n",
      "Epoch 2/3\n",
      "55000/55000 [==============================] - 3s 54us/sample - loss: 0.0903 - accuracy: 0.9729 - val_loss: 0.0664 - val_accuracy: 0.9808\n",
      "Epoch 3/3\n",
      "55000/55000 [==============================] - 7s 126us/sample - loss: 0.0613 - accuracy: 0.9809 - val_loss: 0.0611 - val_accuracy: 0.9830\n",
      "\n",
      "Accuracy: 98.30%\n",
      "\n",
      "learning rate: 1.0e-06\n",
      "num_dense_layers: 2\n",
      "num_dense_nodes: 512\n",
      "activation: relu\n",
      "\n",
      "Train on 55000 samples, validate on 5000 samples\n",
      "Epoch 1/3\n",
      "55000/55000 [==============================] - 9s 168us/sample - loss: 2.2758 - accuracy: 0.2655 - val_loss: 2.2455 - val_accuracy: 0.4236\n",
      "Epoch 2/3\n",
      "55000/55000 [==============================] - 8s 138us/sample - loss: 2.2145 - accuracy: 0.5053 - val_loss: 2.1717 - val_accuracy: 0.6046\n",
      "Epoch 3/3\n",
      "55000/55000 [==============================] - 7s 128us/sample - loss: 2.1320 - accuracy: 0.6202 - val_loss: 2.0713 - val_accuracy: 0.6850\n",
      "\n",
      "Accuracy: 68.50%\n",
      "\n",
      "learning rate: 1.0e-02\n",
      "num_dense_layers: 3\n",
      "num_dense_nodes: 5\n",
      "activation: relu\n",
      "\n",
      "Train on 55000 samples, validate on 5000 samples\n",
      "Epoch 1/3\n",
      "55000/55000 [==============================] - 3s 60us/sample - loss: 1.5650 - accuracy: 0.3523 - val_loss: 1.2933 - val_accuracy: 0.4494\n",
      "Epoch 2/3\n",
      "55000/55000 [==============================] - 3s 48us/sample - loss: 0.9217 - accuracy: 0.6472 - val_loss: 0.6613 - val_accuracy: 0.7856\n",
      "Epoch 3/3\n",
      "55000/55000 [==============================] - 5s 85us/sample - loss: 0.6513 - accuracy: 0.7897 - val_loss: 0.4982 - val_accuracy: 0.8736\n",
      "\n",
      "Accuracy: 87.36%\n",
      "\n",
      "learning rate: 1.4e-03\n",
      "num_dense_layers: 1\n",
      "num_dense_nodes: 512\n",
      "activation: sigmoid\n",
      "\n",
      "Train on 55000 samples, validate on 5000 samples\n",
      "Epoch 1/3\n",
      "55000/55000 [==============================] - 3s 62us/sample - loss: 1.3383 - accuracy: 0.5226 - val_loss: 0.2304 - val_accuracy: 0.9322\n",
      "Epoch 2/3\n",
      "55000/55000 [==============================] - 3s 53us/sample - loss: 0.2098 - accuracy: 0.9346 - val_loss: 0.1193 - val_accuracy: 0.9642\n",
      "Epoch 3/3\n",
      "55000/55000 [==============================] - 7s 123us/sample - loss: 0.1266 - accuracy: 0.9606 - val_loss: 0.0846 - val_accuracy: 0.9750\n",
      "\n",
      "Accuracy: 97.50%\n",
      "\n",
      "learning rate: 4.6e-04\n",
      "num_dense_layers: 3\n",
      "num_dense_nodes: 105\n",
      "activation: relu\n",
      "\n",
      "Train on 55000 samples, validate on 5000 samples\n",
      "Epoch 1/3\n",
      "55000/55000 [==============================] - 9s 168us/sample - loss: 0.3599 - accuracy: 0.8924 - val_loss: 0.0980 - val_accuracy: 0.9706\n",
      "Epoch 2/3\n",
      "55000/55000 [==============================] - 7s 124us/sample - loss: 0.0884 - accuracy: 0.9728 - val_loss: 0.0749 - val_accuracy: 0.9788\n",
      "Epoch 3/3\n",
      "55000/55000 [==============================] - 7s 124us/sample - loss: 0.0643 - accuracy: 0.9799 - val_loss: 0.0548 - val_accuracy: 0.9860\n",
      "\n",
      "Accuracy: 98.60%\n",
      "\n",
      "learning rate: 1.0e-03\n",
      "num_dense_layers: 2\n",
      "num_dense_nodes: 512\n",
      "activation: sigmoid\n",
      "\n",
      "Train on 55000 samples, validate on 5000 samples\n",
      "Epoch 1/3\n",
      "55000/55000 [==============================] - 3s 62us/sample - loss: 1.1924 - accuracy: 0.5680 - val_loss: 0.1600 - val_accuracy: 0.9518\n",
      "Epoch 2/3\n",
      "55000/55000 [==============================] - 3s 54us/sample - loss: 0.1456 - accuracy: 0.9542 - val_loss: 0.0808 - val_accuracy: 0.9764\n",
      "Epoch 3/3\n",
      "55000/55000 [==============================] - 6s 117us/sample - loss: 0.0892 - accuracy: 0.9727 - val_loss: 0.0612 - val_accuracy: 0.9806\n",
      "\n",
      "Accuracy: 98.06%\n",
      "\n",
      "CPU times: user 12min 22s, sys: 2min 47s, total: 15min 9s\n",
      "Wall time: 9min 35s\n"
     ]
    }
   ],
   "source": [
    "%%time\n",
    "search_result = gp_minimize(func=fitness,\n",
    "                            dimensions=dimensions,\n",
    "                            acq_func='EI', # Expected Improvement.\n",
    "                            n_calls=40,\n",
    "                            x0=default_parameters)"
   ]
  },
  {
   "cell_type": "markdown",
   "metadata": {},
   "source": [
    "### Optimization Progress\n",
    "\n",
    "The progress of the hyper-parameter optimization can be easily plotted. The best fitness value found is plotted on the y-axis, remember that this is the negated classification accuracy on the validation-set.\n",
    "\n",
    "Note how few hyper-parameters had to be tried before substantial improvements were found."
   ]
  },
  {
   "cell_type": "code",
   "execution_count": 27,
   "metadata": {
    "scrolled": true
   },
   "outputs": [
    {
     "data": {
      "text/plain": [
       "<matplotlib.axes._subplots.AxesSubplot at 0x7fb8da0d14a8>"
      ]
     },
     "execution_count": 27,
     "metadata": {},
     "output_type": "execute_result"
    },
    {
     "data": {
      "image/png": "[encoded data removed]",
      "text/plain": [
       "<Figure size 432x288 with 1 Axes>"
      ]
     },
     "metadata": {
      "needs_background": "light"
     },
     "output_type": "display_data"
    }
   ],
   "source": [
    "plot_convergence(search_result)"
   ]
  },
  {
   "cell_type": "markdown",
   "metadata": {},
   "source": [
    "### Best Hyper-Parameters\n",
    "\n",
    "The best hyper-parameters found by the Bayesian optimizer are packed as a list because that is what it uses internally."
   ]
  },
  {
   "cell_type": "code",
   "execution_count": 28,
   "metadata": {
    "scrolled": true
   },
   "outputs": [
    {
     "data": {
      "text/plain": [
       "[0.01, 2, 104, 'relu']"
      ]
     },
     "execution_count": 28,
     "metadata": {},
     "output_type": "execute_result"
    }
   ],
   "source": [
    "search_result.x"
   ]
  },
  {
   "cell_type": "markdown",
   "metadata": {},
   "source": [
    "We can convert these parameters to a dict with proper names for the search-space dimensions.\n",
    "\n",
    "First we need a reference to the search-space object."
   ]
  },
  {
   "cell_type": "code",
   "execution_count": 29,
   "metadata": {},
   "outputs": [],
   "source": [
    "space = search_result.space"
   ]
  },
  {
   "cell_type": "markdown",
   "metadata": {},
   "source": [
    "Then we can use it to create a dict where the hyper-parameters have the proper names of the search-space dimensions. This is a bit awkward."
   ]
  },
  {
   "cell_type": "code",
   "execution_count": 30,
   "metadata": {},
   "outputs": [
    {
     "data": {
      "text/plain": [
       "{'learning_rate': 0.01,\n",
       " 'num_dense_layers': 2,\n",
       " 'num_dense_nodes': 104,\n",
       " 'activation': 'relu'}"
      ]
     },
     "execution_count": 30,
     "metadata": {},
     "output_type": "execute_result"
    }
   ],
   "source": [
    "space.point_to_dict(search_result.x)"
   ]
  },
  {
   "cell_type": "markdown",
   "metadata": {},
   "source": [
    "This is the fitness value associated with these hyper-parameters. This is a negative number because the Bayesian optimizer performs minimization, so we had to negate the classification accuracy which is posed as a maximization problem."
   ]
  },
  {
   "cell_type": "code",
   "execution_count": 31,
   "metadata": {
    "scrolled": true
   },
   "outputs": [
    {
     "data": {
      "text/plain": [
       "-0.9904"
      ]
     },
     "execution_count": 31,
     "metadata": {},
     "output_type": "execute_result"
    }
   ],
   "source": [
    "search_result.fun"
   ]
  },
  {
   "cell_type": "markdown",
   "metadata": {},
   "source": [
    "We can also see all the hyper-parameters tried by the Bayesian optimizer and their associated fitness values (the negated classification accuracies). These are sorted so the highest classification accuracies are shown first.\n",
    "\n",
    "It appears that 'relu' activation was generally better than 'sigmoid'. Otherwise it can be difficult to see a pattern of which parameter choices are good. We really need to plot these results."
   ]
  },
  {
   "cell_type": "code",
   "execution_count": 32,
   "metadata": {
    "scrolled": true
   },
   "outputs": [
    {
     "data": {
      "text/plain": [
       "[(-0.9904, [0.01, 2, 104, 'relu']),\n",
       " (-0.9894, [0.0029398096826104927, 2, 299, 'relu']),\n",
       " (-0.9892, [0.000695826471438557, 1, 365, 'relu']),\n",
       " (-0.989, [0.000658408209046353, 1, 512, 'relu']),\n",
       " (-0.989, [0.0034329866293724173, 2, 451, 'relu']),\n",
       " (-0.9882, [0.0027527776962813647, 2, 441, 'relu']),\n",
       " (-0.9878, [0.0004989932212151087, 2, 309, 'relu']),\n",
       " (-0.987, [0.009700568764470742, 3, 132, 'relu']),\n",
       " (-0.986, [0.00045720538478821585, 3, 105, 'relu']),\n",
       " (-0.9854, [0.005470139269128146, 1, 512, 'relu']),\n",
       " (-0.983, [0.0001756750312956145, 3, 512, 'relu']),\n",
       " (-0.9806, [0.00010996497783044355, 1, 512, 'relu']),\n",
       " (-0.9806, [0.0010101832379944083, 2, 512, 'sigmoid']),\n",
       " (-0.9778, [3.542177009701199e-05, 4, 512, 'relu']),\n",
       " (-0.975, [0.0014121597194479596, 1, 512, 'sigmoid']),\n",
       " (-0.9748, [5.4968307266680435e-05, 2, 512, 'relu']),\n",
       " (-0.9746, [7.662555005436298e-05, 5, 154, 'relu']),\n",
       " (-0.9734, [3.623853563736315e-05, 5, 446, 'relu']),\n",
       " (-0.9708, [0.0006699631867581338, 3, 230, 'sigmoid']),\n",
       " (-0.9704, [0.0004806874905820532, 2, 225, 'sigmoid']),\n",
       " (-0.97, [6.592244748528267e-05, 4, 143, 'relu']),\n",
       " (-0.97, [0.0005519055319736135, 3, 277, 'sigmoid']),\n",
       " (-0.9606, [0.0024078003512664754, 3, 5, 'relu']),\n",
       " (-0.9592, [0.0002839701110319199, 2, 512, 'sigmoid']),\n",
       " (-0.931, [0.00021682795230749897, 2, 195, 'sigmoid']),\n",
       " (-0.9256, [1.152958307942762e-05, 5, 182, 'relu']),\n",
       " (-0.9226, [1.068205878028229e-05, 1, 496, 'relu']),\n",
       " (-0.9176, [0.00037183580449927443, 3, 72, 'sigmoid']),\n",
       " (-0.912, [5.101545871674443e-06, 3, 512, 'relu']),\n",
       " (-0.8736, [0.01, 3, 5, 'relu']),\n",
       " (-0.725, [1e-05, 1, 16, 'relu']),\n",
       " (-0.7048, [1e-06, 5, 512, 'relu']),\n",
       " (-0.6904, [0.0001581796478320478, 4, 112, 'sigmoid']),\n",
       " (-0.685, [1e-06, 2, 512, 'relu']),\n",
       " (-0.5936, [4.158851683068185e-05, 1, 512, 'sigmoid']),\n",
       " (-0.106, [1.42502793530235e-06, 4, 512, 'sigmoid']),\n",
       " (-0.106, [0.0028996992551655475, 4, 156, 'sigmoid']),\n",
       " (-0.106, [0.0034427213718442543, 3, 5, 'sigmoid']),\n",
       " (-0.106, [0.006781678732829231, 4, 466, 'relu']),\n",
       " (-0.0978, [0.0009844064941977042, 5, 122, 'sigmoid'])]"
      ]
     },
     "execution_count": 32,
     "metadata": {},
     "output_type": "execute_result"
    }
   ],
   "source": [
    "sorted(zip(search_result.func_vals, search_result.x_iters))"
   ]
  },
  {
   "cell_type": "markdown",
   "metadata": {},
   "source": [
    "### Plots\n",
    "\n",
    "There are several plotting functions available in the `skopt` library. For example, we can plot a histogram for the `activation` parameter, which shows the distribution of samples during the hyper-parameter optimization."
   ]
  },
  {
   "cell_type": "code",
   "execution_count": 33,
   "metadata": {
    "scrolled": true
   },
   "outputs": [
    {
     "data": {
      "image/png": "[encoded data removed]",
      "text/plain": [
       "<Figure size 432x288 with 1 Axes>"
      ]
     },
     "metadata": {
      "needs_background": "light"
     },
     "output_type": "display_data"
    }
   ],
   "source": [
    "fig, ax = plot_histogram(result=search_result,\n",
    "                         dimension_name='activation')"
   ]
  },
  {
   "cell_type": "markdown",
   "metadata": {},
   "source": [
    "We can also make a landscape-plot of the estimated fitness values for two dimensions of the search-space, here taken to be `learning_rate` and `num_dense_layers`.\n",
    "\n",
    "The Bayesian optimizer works by building a surrogate model of the search-space and then searching this model instead of the real search-space, because it is much faster. The plot shows the last surrogate model built by the Bayesian optimizer where yellow regions are better and blue regions are worse. The black dots show where the optimizer has sampled the search-space and the red star shows the best parameters found.\n",
    "\n",
    "Several things should be noted here. Firstly, this surrogate model of the search-space may not be accurate. It is built from only 40 samples of calls to the `fitness()` function for training a neural network with a given choice of hyper-parameters. The modelled fitness landscape may differ significantly from its true values especially in regions of the search-space with few samples. Secondly, the plot may change each time the hyper-parameter optimization is run because of random noise in the training process of the neural network. Thirdly, this plot shows the effect of changing these two parameters `num_dense_layers` and `learning_rate` when averaged over all other dimensions in the search-space, this is also called a Partial Dependence plot and is a way of visualizing high-dimensional spaces in only 2-dimensions."
   ]
  },
  {
   "cell_type": "code",
   "execution_count": 34,
   "metadata": {
    "scrolled": true
   },
   "outputs": [
    {
     "data": {
      "image/png": "[encoded data removed]",
      "text/plain": [
       "<Figure size 432x288 with 1 Axes>"
      ]
     },
     "metadata": {
      "needs_background": "light"
     },
     "output_type": "display_data"
    }
   ],
   "source": [
    "fig = plot_objective_2D(result=search_result,\n",
    "                        dimension_name1='learning_rate',\n",
    "                        dimension_name2='num_dense_layers',\n",
    "                        levels=50)"
   ]
  },
  {
   "cell_type": "markdown",
   "metadata": {},
   "source": [
    "We cannot make a landscape plot for the `activation` hyper-parameter because it is a categorical variable that can be one of two strings `relu` or `sigmoid`. How this is encoded depends on the Bayesian optimizer, for example, whether it is using Gaussian Processes or Random Forests. But it cannot currently be plotted using the built-in functions of `skopt`.\n",
    "\n",
    "Instead we only want to use the real- and integer-valued dimensions of the search-space which we identify by their names."
   ]
  },
  {
   "cell_type": "code",
   "execution_count": 35,
   "metadata": {},
   "outputs": [],
   "source": [
    "dim_names = ['learning_rate', 'num_dense_nodes', 'num_dense_layers']"
   ]
  },
  {
   "cell_type": "markdown",
   "metadata": {},
   "source": [
    "We can then make a matrix-plot of all combinations of these dimensions.\n",
    "\n",
    "The diagonal shows the influence of a single dimension on the fitness. This is a so-called Partial Dependence plot for that dimension. It shows how the approximated fitness value changes with different values in that dimension.\n",
    "\n",
    "The plots below the diagonal show the Partial Dependence for two dimensions. This shows how the approximated fitness value changes when we are varying two dimensions simultaneously.\n",
    "\n",
    "These Partial Dependence plots are only approximations of the modelled fitness function - which in turn is only an approximation of the true fitness function in `fitness()`. This may be a bit difficult to understand. For example, the Partial Dependence is calculated by fixing one value for the `learning_rate` and then taking a large number of random samples for the remaining dimensions in the search-space. The estimated fitness for all these points is then averaged. This process is then repeated for other values of the `learning_rate` to show how it affects the fitness on average. A similar procedure is done for the plots that show the Partial Dependence plots for two dimensions."
   ]
  },
  {
   "cell_type": "code",
   "execution_count": 36,
   "metadata": {
    "scrolled": true
   },
   "outputs": [
    {
     "data": {
      "image/png": "[encoded data removed]",
      "text/plain": [
       "<Figure size 432x432 with 9 Axes>"
      ]
     },
     "metadata": {
      "needs_background": "light"
     },
     "output_type": "display_data"
    }
   ],
   "source": [
    "fig, ax = plot_objective(result=search_result, dimension_names=dim_names)"
   ]
  },
  {
   "cell_type": "markdown",
   "metadata": {},
   "source": [
    "We can also show another type of matrix-plot. Here the diagonal shows histograms of the sample distributions for each of the hyper-parameters during the Bayesian optimization. The plots below the diagonal show the location of samples in the search-space and the colour-coding shows the order in which the samples were taken. For larger numbers of samples you will likely see that the samples eventually become concentrated in a certain region of the search-space."
   ]
  },
  {
   "cell_type": "code",
   "execution_count": 37,
   "metadata": {
    "scrolled": true
   },
   "outputs": [
    {
     "data": {
      "image/png": "[encoded data removed]",
      "text/plain": [
       "<Figure size 432x432 with 9 Axes>"
      ]
     },
     "metadata": {
      "needs_background": "light"
     },
     "output_type": "display_data"
    }
   ],
   "source": [
    "fig, ax = plot_evaluations(result=search_result, dimension_names=dim_names)"
   ]
  },
  {
   "cell_type": "markdown",
   "metadata": {},
   "source": [
    "### Evaluate Best Model on Test-Set\n",
    "\n",
    "We can now use the best model on the test-set. It is very easy to reload the model using Keras."
   ]
  },
  {
   "cell_type": "code",
   "execution_count": 38,
   "metadata": {},
   "outputs": [],
   "source": [
    "model = load_model(path_best_model)"
   ]
  },
  {
   "cell_type": "markdown",
   "metadata": {},
   "source": [
    "We then evaluate its performance on the test-set."
   ]
  },
  {
   "cell_type": "code",
   "execution_count": 39,
   "metadata": {},
   "outputs": [
    {
     "name": "stdout",
     "output_type": "stream",
     "text": [
      "10000/10000 [==============================] - 1s 64us/sample - loss: 0.0490 - accuracy: 0.9882\n"
     ]
    }
   ],
   "source": [
    "result = model.evaluate(x=data.x_test,\n",
    "                        y=data.y_test)"
   ]
  },
  {
   "cell_type": "markdown",
   "metadata": {},
   "source": [
    "We can print all the performance metrics for the test-set."
   ]
  },
  {
   "cell_type": "code",
   "execution_count": 40,
   "metadata": {},
   "outputs": [
    {
     "name": "stdout",
     "output_type": "stream",
     "text": [
      "loss 0.048988553384863916\n",
      "accuracy 0.9882\n"
     ]
    }
   ],
   "source": [
    "for name, value in zip(model.metrics_names, result):\n",
    "    print(name, value)"
   ]
  },
  {
   "cell_type": "markdown",
   "metadata": {},
   "source": [
    "Or we can just print the classification accuracy."
   ]
  },
  {
   "cell_type": "code",
   "execution_count": 41,
   "metadata": {},
   "outputs": [
    {
     "name": "stdout",
     "output_type": "stream",
     "text": [
      "accuracy: 98.82%\n"
     ]
    }
   ],
   "source": [
    "print(\"{0}: {1:.2%}\".format(model.metrics_names[1], result[1]))"
   ]
  },
  {
   "cell_type": "markdown",
   "metadata": {},
   "source": [
    "### Predict on New Data\n",
    "\n",
    "We can also predict the classification for new images. We will just use some images from the test-set but you could load your own images into numpy arrays and use those instead."
   ]
  },
  {
   "cell_type": "code",
   "execution_count": 42,
   "metadata": {},
   "outputs": [],
   "source": [
    "images = data.x_test[0:9]"
   ]
  },
  {
   "cell_type": "markdown",
   "metadata": {},
   "source": [
    "These are the true class-number for those images. This is only used when plotting the images."
   ]
  },
  {
   "cell_type": "code",
   "execution_count": 43,
   "metadata": {},
   "outputs": [],
   "source": [
    "cls_true = data.y_test_cls[0:9]"
   ]
  },
  {
   "cell_type": "markdown",
   "metadata": {},
   "source": [
    "Get the predicted classes as One-Hot encoded arrays."
   ]
  },
  {
   "cell_type": "code",
   "execution_count": 44,
   "metadata": {},
   "outputs": [],
   "source": [
    "y_pred = model.predict(x=images)"
   ]
  },
  {
   "cell_type": "markdown",
   "metadata": {},
   "source": [
    "Get the predicted classes as integers."
   ]
  },
  {
   "cell_type": "code",
   "execution_count": 45,
   "metadata": {},
   "outputs": [],
   "source": [
    "cls_pred = np.argmax(y_pred,axis=1)"
   ]
  },
  {
   "cell_type": "code",
   "execution_count": 46,
   "metadata": {},
   "outputs": [
    {
     "data": {
      "image/png": "[encoded data removed]",
      "text/plain": [
       "<Figure size 432x288 with 9 Axes>"
      ]
     },
     "metadata": {},
     "output_type": "display_data"
    }
   ],
   "source": [
    "plot_images(images=images,\n",
    "            cls_true=cls_true,\n",
    "            cls_pred=cls_pred)"
   ]
  },
  {
   "cell_type": "markdown",
   "metadata": {},
   "source": [
    "### Examples of Mis-Classified Images\n",
    "\n",
    "We can plot some examples of mis-classified images from the test-set.\n",
    "\n",
    "First we get the predicted classes for all the images in the test-set:"
   ]
  },
  {
   "cell_type": "code",
   "execution_count": 47,
   "metadata": {},
   "outputs": [],
   "source": [
    "y_pred = model.predict(x=data.x_test)"
   ]
  },
  {
   "cell_type": "markdown",
   "metadata": {},
   "source": [
    "Then we convert the predicted class-numbers from One-Hot encoded arrays to integers."
   ]
  },
  {
   "cell_type": "code",
   "execution_count": 48,
   "metadata": {},
   "outputs": [],
   "source": [
    "cls_pred = np.argmax(y_pred, axis=1)"
   ]
  },
  {
   "cell_type": "markdown",
   "metadata": {},
   "source": [
    "Plot some of the mis-classified images."
   ]
  },
  {
   "cell_type": "code",
   "execution_count": 49,
   "metadata": {},
   "outputs": [
    {
     "data": {
      "image/png": "[encoded data removed]",
      "text/plain": [
       "<Figure size 432x288 with 9 Axes>"
      ]
     },
     "metadata": {},
     "output_type": "display_data"
    }
   ],
   "source": [
    "plot_example_errors(cls_pred)"
   ]
  },
  {
   "cell_type": "markdown",
   "metadata": {},
   "source": [
    "## Conclusion\n",
    "\n",
    "This tutorial showed how to optimize the hyper-parameters of a neural network using Bayesian optimization. We used the scikit-optimize (`skopt`) library which is still under development, but it is already an extremely powerful tool. It was able to substantially improve on hand-tuned hyper-parameters in a small number of iterations. This is vastly superior to Grid Search and Random Search of the hyper-parameters, which would require far more computational time, and would most likely find inferior hyper-parameters, especially for more difficult problems."
   ]
  },
  {
   "cell_type": "markdown",
   "metadata": {},
   "source": [
    "## Exercises\n",
    "\n",
    "These are a few suggestions for exercises that may help improve your skills with TensorFlow. It is important to get hands-on experience with TensorFlow in order to learn how to use it properly.\n",
    "\n",
    "You may want to backup this Notebook before making any changes.\n",
    "\n",
    "* Try and run 100 or 200 iterations of the optimization instead of just 40 iterations. What happens to the plotted landscapes?\n",
    "* Try some of the other optimization methods from scikit-optimize such as `forest_minimize` instead of `gp_minimize`. How do they perform?\n",
    "* Try using another acquisition function for the optimizer e.g. Probability of Improvement.\n",
    "* Try optimizing more hyper-parameters with the Bayesian optimization. For example, the kernel-size and number of filters in the convolutional-layers, or the batch-size used in training.\n",
    "* Add a hyper-parameter for the number of convolutional layers and implement it in `create_model()`. Note that if you have pooling-layers after the convolution then the images are downsampled, so there is a limit to the number of layers you can have before the images become too small.\n",
    "* Look at the plots. Do you think that some of the hyper-parameters may be irrelevant? Try and remove these parameters and redo the optimization of the remaining hyper-parameters.\n",
    "* Use another and more difficult dataset with image-files.\n",
    "* Train for more epochs. Does it improve the classification accuracy on the validiation- and test-sets? How does it affect the time-usage?\n",
    "* Explain to a friend how the program works."
   ]
  },
  {
   "cell_type": "markdown",
   "metadata": {},
   "source": [
    "## License (MIT)\n",
    "\n",
    "Copyright (c) 2016-2018 by [Magnus Erik Hvass Pedersen](http://www.hvass-labs.org/)\n",
    "\n",
    "Permission is hereby granted, free of charge, to any person obtaining a copy of this software and associated documentation files (the \"Software\"), to deal in the Software without restriction, including without limitation the rights to use, copy, modify, merge, publish, distribute, sublicense, and/or sell copies of the Software, and to permit persons to whom the Software is furnished to do so, subject to the following conditions:\n",
    "\n",
    "The above copyright notice and this permission notice shall be included in all copies or substantial portions of the Software.\n",
    "\n",
    "THE SOFTWARE IS PROVIDED \"AS IS\", WITHOUT WARRANTY OF ANY KIND, EXPRESS OR IMPLIED, INCLUDING BUT NOT LIMITED TO THE WARRANTIES OF MERCHANTABILITY, FITNESS FOR A PARTICULAR PURPOSE AND NONINFRINGEMENT. IN NO EVENT SHALL THE AUTHORS OR COPYRIGHT HOLDERS BE LIABLE FOR ANY CLAIM, DAMAGES OR OTHER LIABILITY, WHETHER IN AN ACTION OF CONTRACT, TORT OR OTHERWISE, ARISING FROM, OUT OF OR IN CONNECTION WITH THE SOFTWARE OR THE USE OR OTHER DEALINGS IN THE SOFTWARE."
   ]
  }
 ],
 "metadata": {
  "anaconda-cloud": {},
  "kernelspec": {
   "display_name": "Python 3",
   "language": "python",
   "name": "python3"
  },
  "language_info": {
   "codemirror_mode": {
    "name": "ipython",
    "version": 3
   },
   "file_extension": ".py",
   "mimetype": "text/x-python",
   "name": "python",
   "nbconvert_exporter": "python",
   "pygments_lexer": "ipython3",
   "version": "3.6.10"
  }
 },
 "nbformat": 4,
 "nbformat_minor": 1
}
